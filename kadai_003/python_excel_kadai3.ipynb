{
  "nbformat": 4,
  "nbformat_minor": 0,
  "metadata": {
    "colab": {
      "provenance": []
    },
    "kernelspec": {
      "name": "python3",
      "display_name": "Python 3"
    },
    "language_info": {
      "name": "python"
    }
  },
  "cells": [
    {
      "cell_type": "code",
      "execution_count": 1,
      "metadata": {
        "colab": {
          "base_uri": "https://localhost:8080/"
        },
        "id": "vcLCCnDEXQoS",
        "outputId": "220842d9-f5bc-447b-f43c-8c61654c536a"
      },
      "outputs": [
        {
          "output_type": "stream",
          "name": "stdout",
          "text": [
            "Requirement already satisfied: numpy==1.24.4 in /usr/local/lib/python3.11/dist-packages (1.24.4)\n",
            "Requirement already satisfied: pandas==1.5.3 in /usr/local/lib/python3.11/dist-packages (1.5.3)\n",
            "Requirement already satisfied: openpyxl==3.0.10 in /usr/local/lib/python3.11/dist-packages (3.0.10)\n",
            "Requirement already satisfied: python-dateutil>=2.8.1 in /usr/local/lib/python3.11/dist-packages (from pandas==1.5.3) (2.9.0.post0)\n",
            "Requirement already satisfied: pytz>=2020.1 in /usr/local/lib/python3.11/dist-packages (from pandas==1.5.3) (2025.2)\n",
            "Requirement already satisfied: et-xmlfile in /usr/local/lib/python3.11/dist-packages (from openpyxl==3.0.10) (2.0.0)\n",
            "Requirement already satisfied: six>=1.5 in /usr/local/lib/python3.11/dist-packages (from python-dateutil>=2.8.1->pandas==1.5.3) (1.17.0)\n"
          ]
        }
      ],
      "source": [
        "!pip install numpy==1.24.4 pandas==1.5.3 openpyxl==3.0.10"
      ]
    },
    {
      "cell_type": "code",
      "source": [
        "import openpyxl\n",
        "import pandas as pd\n",
        "from openpyxl.chart import (\n",
        "    BarChart,\n",
        "    Reference,\n",
        "    Series,\n",
        ")\n",
        "from openpyxl.chart.label import DataLabelList"
      ],
      "metadata": {
        "id": "IYOpsHYiYDJK"
      },
      "execution_count": 6,
      "outputs": []
    },
    {
      "cell_type": "code",
      "source": [
        "import pandas as pd\n",
        "from openpyxl import load_workbook\n",
        "from openpyxl.styles import PatternFill\n",
        "\n",
        "# ---------------------\n",
        "# Step1: Excelファイルの読み込み\n",
        "# ---------------------\n",
        "\n",
        "# 2022年の売上データを読み込み\n",
        "df_2022 = pd.read_excel('2022_年間売上表.xlsx', sheet_name='Sheet1')\n",
        "\n",
        "# 2023年の売上データを読み込み\n",
        "df_2023 = pd.read_excel('2023_年間売上表.xlsx', sheet_name='Sheet1')\n",
        "\n",
        "# ---------------------\n",
        "# Step2: データの連結と集計処理\n",
        "# ---------------------\n",
        "\n",
        "# 2つのデータを縦方向（行方向）に連結\n",
        "df_all = pd.concat([df_2022, df_2023], ignore_index=True)\n",
        "\n",
        "# 商品名と売上年ごとにグループ化し、「金額（千円）」を合計する\n",
        "df_grouped = df_all.groupby(['商品', '売上年'])['金額（千円）'].sum().reset_index()\n",
        "\n",
        "# ---------------------\n",
        "# Step3: 集計結果を新しいExcelファイルに書き出し\n",
        "# ---------------------\n",
        "\n",
        "# 集計した結果を新しいExcelファイルに書き出す\n",
        "output_file = '売上集計表.xlsx'\n",
        "df_grouped.to_excel(output_file, index=False)\n",
        "\n",
        "# ---------------------\n",
        "# Step4: ヘッダー行の見た目を整える（薄いグレーにする）\n",
        "# ---------------------\n",
        "\n",
        "# openpyxlで書き込んだファイルを開き直す\n",
        "wb = load_workbook(output_file)\n",
        "ws = wb.active  # 最初のシートを選択\n",
        "\n",
        "# ヘッダー行のセルにグレー色を設定（#F2F2F2）\n",
        "fill = PatternFill(start_color='F2F2F2', end_color='F2F2F2', fill_type='solid')\n",
        "\n",
        "# 1行目のすべての列に対して適用\n",
        "for cell in ws[1]:\n",
        "    cell.fill = fill\n",
        "\n",
        "# 保存\n",
        "wb.save(output_file)\n"
      ],
      "metadata": {
        "id": "jA2wToQgYFKR"
      },
      "execution_count": 15,
      "outputs": []
    }
  ]
}