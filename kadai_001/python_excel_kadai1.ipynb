{
  "nbformat": 4,
  "nbformat_minor": 0,
  "metadata": {
    "colab": {
      "provenance": []
    },
    "kernelspec": {
      "name": "python3",
      "display_name": "Python 3"
    },
    "language_info": {
      "name": "python"
    }
  },
  "cells": [
    {
      "cell_type": "code",
      "execution_count": 1,
      "metadata": {
        "colab": {
          "base_uri": "https://localhost:8080/"
        },
        "id": "DBJ8DnLl-n1p",
        "outputId": "1e1340a1-2b33-46ad-ce63-f17a9705faf3"
      },
      "outputs": [
        {
          "output_type": "stream",
          "name": "stdout",
          "text": [
            "Requirement already satisfied: numpy==1.24.4 in /usr/local/lib/python3.11/dist-packages (1.24.4)\n",
            "Requirement already satisfied: pandas==1.5.3 in /usr/local/lib/python3.11/dist-packages (1.5.3)\n",
            "Requirement already satisfied: openpyxl==3.0.10 in /usr/local/lib/python3.11/dist-packages (3.0.10)\n",
            "Requirement already satisfied: python-dateutil>=2.8.1 in /usr/local/lib/python3.11/dist-packages (from pandas==1.5.3) (2.9.0.post0)\n",
            "Requirement already satisfied: pytz>=2020.1 in /usr/local/lib/python3.11/dist-packages (from pandas==1.5.3) (2025.2)\n",
            "Requirement already satisfied: et-xmlfile in /usr/local/lib/python3.11/dist-packages (from openpyxl==3.0.10) (2.0.0)\n",
            "Requirement already satisfied: six>=1.5 in /usr/local/lib/python3.11/dist-packages (from python-dateutil>=2.8.1->pandas==1.5.3) (1.17.0)\n"
          ]
        }
      ],
      "source": [
        "!pip install numpy==1.24.4 pandas==1.5.3 openpyxl==3.0.10"
      ]
    },
    {
      "cell_type": "code",
      "source": [
        "import openpyxl\n",
        "from openpyxl.styles import Alignment\n",
        "from datetime import datetime\n",
        "\n",
        "# 新しいワークブックを作成\n",
        "wb = openpyxl.Workbook()\n",
        "ws = wb.active\n",
        "\n",
        "# 書式の統一（中央揃え）\n",
        "center = Alignment(horizontal=\"center\")\n",
        "\n",
        "# 請求書タイトル\n",
        "ws['B2'] = '請求書'\n",
        "\n",
        "# 固定会社情報\n",
        "company_info = [\n",
        "    \"株式会社ABC\",\n",
        "    \"〒101-0022 東京都千代田区神田練塀町300\",\n",
        "    \"TEL:03-1234-5678 FAX:03-1234-5678\",\n",
        "    \"担当者名:鈴木一郎 様\"\n",
        "]\n",
        "\n",
        "# 会社情報をB4〜B7に出力\n",
        "for i, text in enumerate(company_info):\n",
        "    ws.cell(row=4+i, column=2, value=text)\n",
        "\n",
        "# 請求書番号と日付\n",
        "ws['F4'] = 'No.'\n",
        "ws['G4'] = '0001'\n",
        "ws['F5'] = '日付'\n",
        "ws['G5'] = datetime.now().strftime('%Y/%m/%d')  # 現在の日付\n",
        "\n",
        "# 商品データ\n",
        "items = [\n",
        "    [\"商品A\", 2, 10000],\n",
        "    [\"商品B\", 1, 15000],\n",
        "]\n",
        "\n",
        "# ヘッダー行\n",
        "ws['B9'] = '商品名'\n",
        "ws['C9'] = '数量'\n",
        "ws['D9'] = '単価'\n",
        "ws['E9'] = '金額'\n",
        "\n",
        "# 商品情報の出力（enumerateでインデックス付きループ）\n",
        "for i, (name, qty, unit_price) in enumerate(items):\n",
        "    row = 10 + i\n",
        "    ws.cell(row=row, column=2, value=name)\n",
        "    ws.cell(row=row, column=3, value=qty)\n",
        "    ws.cell(row=row, column=4, value=unit_price)\n",
        "    ws.cell(row=row, column=5, value=qty * unit_price)\n",
        "\n",
        "# 合計などの計算\n",
        "subtotal = sum(qty * unit_price for name, qty, unit_price in items)\n",
        "tax = int(subtotal * 0.1)  # 消費税10%\n",
        "total = subtotal + tax\n",
        "\n",
        "# 合計欄の出力\n",
        "ws['D13'] = '合計'\n",
        "ws['E13'] = subtotal\n",
        "\n",
        "ws['D14'] = '消費税'\n",
        "ws['E14'] = tax\n",
        "\n",
        "ws['D15'] = '税込合計'\n",
        "ws['E15'] = total\n",
        "\n",
        "# セルの整形（中央揃え）\n",
        "for row in ws.iter_rows(min_row=9, max_row=15, min_col=2, max_col=5):\n",
        "    for cell in row:\n",
        "        cell.alignment = center\n",
        "\n",
        "# 列幅調整（見やすさのため）\n",
        "ws.column_dimensions['B'].width = 15\n",
        "ws.column_dimensions['C'].width = 10\n",
        "ws.column_dimensions['D'].width = 10\n",
        "ws.column_dimensions['E'].width = 12\n",
        "ws.column_dimensions['F'].width = 8\n",
        "ws.column_dimensions['G'].width = 15\n",
        "\n",
        "# ファイル保存\n",
        "wb.save(\"請求書_20250702.xlsx\")\n"
      ],
      "metadata": {
        "id": "Mm6fLmBR_Msq"
      },
      "execution_count": 2,
      "outputs": []
    }
  ]
}