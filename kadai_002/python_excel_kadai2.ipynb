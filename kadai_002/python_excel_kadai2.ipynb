{
  "nbformat": 4,
  "nbformat_minor": 0,
  "metadata": {
    "colab": {
      "provenance": []
    },
    "kernelspec": {
      "name": "python3",
      "display_name": "Python 3"
    },
    "language_info": {
      "name": "python"
    }
  },
  "cells": [
    {
      "cell_type": "code",
      "execution_count": 1,
      "metadata": {
        "id": "ciMWIDD9R2zs"
      },
      "outputs": [],
      "source": [
        "import pandas as pd\n",
        "\n",
        "# データ定義（辞書型で直接作成）\n",
        "data = {\n",
        "    '日付': ['2023-05-17', '2023-05-18', '2023-05-19', '2023-05-20', '2023-05-21'],\n",
        "    '社員名': ['山田', '佐藤', '鈴木', '田中', '高橋'],\n",
        "    '売上': [100, 200, 150, 300, 250],\n",
        "    '部門': ['メーカー', '代理店', 'メーカー', '商社', '代理店']\n",
        "}\n",
        "\n",
        "# DataFrameを作成\n",
        "df = pd.DataFrame(data)\n",
        "\n",
        "# 平均売上を計算（全体平均）\n",
        "average_sales = df['売上'].mean()\n",
        "\n",
        "# 平均売上列を追加（すべての行に平均値を入れる）\n",
        "df['平均売上'] = average_sales\n",
        "\n",
        "# 業績ランクを判定する関数を定義\n",
        "def performance(sales, average):\n",
        "    if sales >= average + 50:\n",
        "        return 'A'\n",
        "    elif sales >= average:\n",
        "        return 'B'\n",
        "    else:\n",
        "        return 'C'\n",
        "\n",
        "# 業績ランク列を追加（関数を行ごとに適用）\n",
        "df['業績ランク'] = df.apply(lambda row: performance(row['売上'], average_sales), axis=1)\n",
        "\n",
        "# Excelファイルに出力\n",
        "df.to_excel('業績.xlsx', index=False)\n"
      ]
    }
  ]
}